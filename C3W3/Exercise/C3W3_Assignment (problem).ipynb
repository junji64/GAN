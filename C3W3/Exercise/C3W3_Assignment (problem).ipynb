{
 "cells": [
  {
   "cell_type": "markdown",
   "metadata": {
    "colab_type": "text",
    "id": "1czVdIlqnImH"
   },
   "source": [
    "# CycleGAN"
   ]
  },
  {
   "cell_type": "markdown",
   "metadata": {
    "colab_type": "text",
    "id": "1KD3ZgLs80vY"
   },
   "source": [
    "### Goals\n",
    "이 노트북에서는 일반적으로 CycleGAN이라고 하는 논문을 기반으로 생성 모델을 작성합니다. [*Unpaired Image-to-Image Translation Cycle-Consistent Adversarial Networks*](https://arxiv.org/abs/1703.10593) Zhu et al. 2017.\n",
    "\n",
    "말을 얼룩말로 또는 그 반대로 변환할 수 있는 모델을 훈련하게 됩니다. 다시 한번, 솨제의 강조는 손실 함수에 있을 것입니다. 좋은 출력을 더 빨리 볼 수 있도록 사전 훈련된 체크포인트에서 시작하여 모델을 훈련할 것입니다. 원한다면 처음부터 스스로 훈련할 수도 있습니다.\n",
    "\n",
    "<!-- You will take the segmentations that you generated in the previous assignment and produce photorealistic images. -->\n",
    "\n",
    "### Learning Objectives\n",
    "1.   Implement the loss functions of a CycleGAN model.\n",
    "2.   Observe the two GANs used in CycleGAN.\n",
    "\n"
   ]
  },
  {
   "cell_type": "markdown",
   "metadata": {
    "colab_type": "text",
    "id": "wU8DDM6l9rZb"
   },
   "source": [
    "## Getting Started\n",
    "라이브러리를 가져오고, 시각화 함수를 정의하고, 사전 훈련된 CycleGAN 체크포인트를 가져오는 것으로 시작합니다."
   ]
  },
  {
   "cell_type": "code",
   "execution_count": 1,
   "metadata": {
    "colab": {},
    "colab_type": "code",
    "id": "JfkorNJrnmNO"
   },
   "outputs": [],
   "source": [
    "import torch\n",
    "from torch import nn\n",
    "from tqdm.auto import tqdm\n",
    "from torchvision import transforms\n",
    "from torchvision.utils import make_grid\n",
    "from torch.utils.data import DataLoader\n",
    "import matplotlib.pyplot as plt\n",
    "torch.manual_seed(0)\n",
    "\n",
    "def show_tensor_images(image_tensor, num_images=25, size=(1, 28, 28)):\n",
    "    '''\n",
    "    Function for visualizing images: Given a tensor of images, number of images, and\n",
    "    size per image, plots and prints the images in an uniform grid.\n",
    "    '''\n",
    "    image_tensor = (image_tensor + 1) / 2\n",
    "    image_shifted = image_tensor\n",
    "    image_unflat = image_shifted.detach().cpu().view(-1, *size)\n",
    "    image_grid = make_grid(image_unflat[:num_images], nrow=5)\n",
    "    plt.imshow(image_grid.permute(1, 2, 0).squeeze())\n",
    "    plt.show()\n",
    "\n",
    "\n",
    "import glob\n",
    "import random\n",
    "import os\n",
    "from torch.utils.data import Dataset\n",
    "from PIL import Image\n",
    "\n",
    "# Inspired by https://github.com/aitorzip/PyTorch-CycleGAN/blob/master/datasets.py\n",
    "class ImageDataset(Dataset):\n",
    "    def __init__(self, root, transform=None, mode='train'):\n",
    "        self.transform = transform\n",
    "        self.files_A = sorted(glob.glob(os.path.join(root, '%sA' % mode) + '/*.*'))\n",
    "        self.files_B = sorted(glob.glob(os.path.join(root, '%sB' % mode) + '/*.*'))\n",
    "        if len(self.files_A) > len(self.files_B):\n",
    "            self.files_A, self.files_B = self.files_B, self.files_A\n",
    "        self.new_perm()\n",
    "        assert len(self.files_A) > 0, \"Make sure you downloaded the horse2zebra images!\"\n",
    "\n",
    "    def new_perm(self):\n",
    "        self.randperm = torch.randperm(len(self.files_B))[:len(self.files_A)]\n",
    "\n",
    "    def __getitem__(self, index):\n",
    "        item_A = self.transform(Image.open(self.files_A[index % len(self.files_A)]))\n",
    "        item_B = self.transform(Image.open(self.files_B[self.randperm[index]]))\n",
    "        if item_A.shape[0] != 3: \n",
    "            item_A = item_A.repeat(3, 1, 1)\n",
    "        if item_B.shape[0] != 3: \n",
    "            item_B = item_B.repeat(3, 1, 1)\n",
    "        if index == len(self) - 1:\n",
    "            self.new_perm()\n",
    "        # Old versions of PyTorch didn't support normalization for different-channeled images\n",
    "        return (item_A - 0.5) * 2, (item_B - 0.5) * 2\n",
    "\n",
    "    def __len__(self):\n",
    "        return min(len(self.files_A), len(self.files_B))"
   ]
  },
  {
   "cell_type": "markdown",
   "metadata": {
    "colab_type": "text",
    "id": "NjFyvNTG1CqY"
   },
   "source": [
    "## Generator\n",
    "CycleGAN 생성기의 코드는 인코딩(축소) 및 디코딩(확장) 블록 사이에 residual block이 추가된 Pix2Pix의 U-Net과 매우 유사합니다.\n",
    "\n",
    "![Diagram of a CycleGAN generator: composed of encoding blocks, residual blocks, then decoding blocks](CycleGAN_Generator.png)\n",
    "*Diagram of a CycleGAN generator: composed of encoding blocks, residual blocks, and then decoding blocks.*"
   ]
  },
  {
   "cell_type": "markdown",
   "metadata": {
    "colab_type": "text",
    "id": "EaWIMyhlDZg9"
   },
   "source": [
    "#### Residual Block\n",
    "\n",
    "Pix2Pix에 사용한 U-Net과 CycleGAN에 사용하는 아키텍처 간의 가장 눈에 띄는 아키텍처 차이점은 아마도 잔여  residual blocks일 것입니다. CycleGAN에는 확장된 블록 후에 네트워크가 이미지에서 가능한 한 적게 변경될 수 있도록 출력이 궁극적으로 원래 입력에 추가되는 컨볼루션 계층이 있습니다. 이 변환을 일종의 건너뛰기 연결로 생각할 수 있습니다. 여기에서 이들을 결합하는 컨볼루션 전에 새 채널로 연결되는 대신 컨볼루션의 출력에 직접 추가됩니다. 아래 시각화에서 줄무늬가 컨볼루션에 의해 생성된 다음 말의 원본 이미지에 추가되어 얼룩말로 변형되는 것을 상상할 수 있습니다. 이러한 건너뛰기 연결은 또한 신경망이 너무 깊어지고 기울기가 역전파에서 증식하여 매우 작아질 때 발생하는 기울기 사라지는 문제에 도움이 되기 때문에 네트워크를 더 깊게 할 수 있습니다. 대신, 이러한 건너뛰기 연결은 더 많은 그라디언트 흐름을 가능하게 합니다. 더 깊은 네트워크는 종종 더 복잡한 특징을 학습할 수 있습니다.\n",
    "\n",
    "![Residual block explanation: shows horse going through convolutions leading to stripes, added to the original horse image to get a zebra](residual_block.png)\n",
    "\n",
    "*Example of a residual block.*"
   ]
  },
  {
   "cell_type": "code",
   "execution_count": 2,
   "metadata": {
    "colab": {},
    "colab_type": "code",
    "id": "P7XTRKqPSYpl"
   },
   "outputs": [],
   "source": [
    "class ResidualBlock(nn.Module):\n",
    "    '''\n",
    "    ResidualBlock Class:\n",
    "    Performs two convolutions and an instance normalization, the input is added\n",
    "    to this output to form the residual block output.\n",
    "    Values:\n",
    "        input_channels: the number of channels to expect from a given input\n",
    "    '''\n",
    "    def __init__(self, input_channels):\n",
    "        super(ResidualBlock, self).__init__()\n",
    "        self.conv1 = nn.Conv2d(input_channels, input_channels, kernel_size=3, padding=1, padding_mode='reflect')\n",
    "        self.conv2 = nn.Conv2d(input_channels, input_channels, kernel_size=3, padding=1, padding_mode='reflect')\n",
    "        self.instancenorm = nn.InstanceNorm2d(input_channels)\n",
    "        self.activation = nn.ReLU()\n",
    "\n",
    "    def forward(self, x):\n",
    "        '''\n",
    "        Function for completing a forward pass of ResidualBlock: \n",
    "        Given an image tensor, completes a residual block and returns the transformed tensor.\n",
    "        Parameters:\n",
    "            x: image tensor of shape (batch size, channels, height, width)\n",
    "        '''\n",
    "        original_x = x.clone()\n",
    "        x = self.conv1(x)\n",
    "        x = self.instancenorm(x)\n",
    "        x = self.activation(x)\n",
    "        x = self.conv2(x)\n",
    "        x = self.instancenorm(x)\n",
    "        return original_x + x"
   ]
  },
  {
   "cell_type": "markdown",
   "metadata": {
    "colab_type": "text",
    "id": "BJhq8a9USnfc"
   },
   "source": [
    "#### Contracting and Expanding Blocks\n",
    "\n",
    "#### 블록 축소 및 확장\n",
    "\n",
    "그렇지 않으면 생성기 코드의 나머지 부분은 마지막 할당인 Pix2Pix의 U-Net에 대해 작성한 코드와 매우 유사합니다. 주요 변경 사항은 batch norm(StyleGAN에서 기억할 수 있음) 대신 instance norm을 사용하고, dropout이 없으며, max pooling 대신 stride-2 컨볼루션을 사용한다는 것입니다. 관심이 있다면 자유롭게 코드를 조사하십시오!"
   ]
  },
  {
   "cell_type": "code",
   "execution_count": 3,
   "metadata": {
    "colab": {},
    "colab_type": "code",
    "id": "xvY4ZNyUviY9"
   },
   "outputs": [],
   "source": [
    "class ContractingBlock(nn.Module):\n",
    "    '''\n",
    "    ContractingBlock Class\n",
    "    Performs a convolution followed by a max pool operation and an optional instance norm.\n",
    "    Values:\n",
    "        input_channels: the number of channels to expect from a given input\n",
    "    '''\n",
    "    def __init__(self, input_channels, use_bn=True, kernel_size=3, activation='relu'):\n",
    "        super(ContractingBlock, self).__init__()\n",
    "        self.conv1 = nn.Conv2d(input_channels, input_channels * 2, kernel_size=kernel_size, padding=1, stride=2, padding_mode='reflect')\n",
    "        self.activation = nn.ReLU() if activation == 'relu' else nn.LeakyReLU(0.2)\n",
    "        if use_bn:\n",
    "            self.instancenorm = nn.InstanceNorm2d(input_channels * 2)\n",
    "        self.use_bn = use_bn\n",
    "\n",
    "    def forward(self, x):\n",
    "        '''\n",
    "        Function for completing a forward pass of ContractingBlock: \n",
    "        Given an image tensor, completes a contracting block and returns the transformed tensor.\n",
    "        Parameters:\n",
    "            x: image tensor of shape (batch size, channels, height, width)\n",
    "        '''\n",
    "        x = self.conv1(x)\n",
    "        if self.use_bn:\n",
    "            x = self.instancenorm(x)\n",
    "        x = self.activation(x)\n",
    "        return x\n",
    "\n",
    "class ExpandingBlock(nn.Module):\n",
    "    '''\n",
    "    ExpandingBlock Class:\n",
    "    Performs a convolutional transpose operation in order to upsample, \n",
    "        with an optional instance norm\n",
    "    Values:\n",
    "        input_channels: the number of channels to expect from a given input\n",
    "    '''\n",
    "    def __init__(self, input_channels, use_bn=True):\n",
    "        super(ExpandingBlock, self).__init__()\n",
    "        self.conv1 = nn.ConvTranspose2d(input_channels, input_channels // 2, kernel_size=3, stride=2, padding=1, output_padding=1)\n",
    "        if use_bn:\n",
    "            self.instancenorm = nn.InstanceNorm2d(input_channels // 2)\n",
    "        self.use_bn = use_bn\n",
    "        self.activation = nn.ReLU()\n",
    "\n",
    "    def forward(self, x):\n",
    "        '''\n",
    "        Function for completing a forward pass of ExpandingBlock: \n",
    "        Given an image tensor, completes an expanding block and returns the transformed tensor.\n",
    "        Parameters:\n",
    "            x: image tensor of shape (batch size, channels, height, width)\n",
    "            skip_con_x: the image tensor from the contracting path (from the opposing block of x)\n",
    "                    for the skip connection\n",
    "        '''\n",
    "        x = self.conv1(x)\n",
    "        if self.use_bn:\n",
    "            x = self.instancenorm(x)\n",
    "        x = self.activation(x)\n",
    "        return x\n",
    "\n",
    "class FeatureMapBlock(nn.Module):\n",
    "    '''\n",
    "    FeatureMapBlock Class\n",
    "    The final layer of a Generator - \n",
    "    maps each the output to the desired number of output channels\n",
    "    Values:\n",
    "        input_channels: the number of channels to expect from a given input\n",
    "        output_channels: the number of channels to expect for a given output\n",
    "    '''\n",
    "    def __init__(self, input_channels, output_channels):\n",
    "        super(FeatureMapBlock, self).__init__()\n",
    "        self.conv = nn.Conv2d(input_channels, output_channels, kernel_size=7, padding=3, padding_mode='reflect')\n",
    "\n",
    "    def forward(self, x):\n",
    "        '''\n",
    "        Function for completing a forward pass of FeatureMapBlock: \n",
    "        Given an image tensor, returns it mapped to the desired number of channels.\n",
    "        Parameters:\n",
    "            x: image tensor of shape (batch size, channels, height, width)\n",
    "        '''\n",
    "        x = self.conv(x)\n",
    "        return x"
   ]
  },
  {
   "cell_type": "markdown",
   "metadata": {
    "colab_type": "text",
    "id": "9vhuBbmqDnE3"
   },
   "source": [
    "#### CycleGAN Generator\n",
    "마지막으로 모든 블록을 모아서 CycleGAN 생성기를 만들 수 있습니다.\n"
   ]
  },
  {
   "cell_type": "code",
   "execution_count": 4,
   "metadata": {
    "colab": {},
    "colab_type": "code",
    "id": "EJzGSeMFD2CA"
   },
   "outputs": [],
   "source": [
    "class Generator(nn.Module):\n",
    "    '''\n",
    "    Generator Class\n",
    "    A series of 2 contracting blocks, 9 residual blocks, and 2 expanding blocks to \n",
    "    transform an input image into an image from the other class, with an upfeature\n",
    "    layer at the start and a downfeature layer at the end.\n",
    "    Values:\n",
    "        input_channels: the number of channels to expect from a given input\n",
    "        output_channels: the number of channels to expect for a given output\n",
    "    '''\n",
    "    def __init__(self, input_channels, output_channels, hidden_channels=64):\n",
    "        super(Generator, self).__init__()\n",
    "        self.upfeature = FeatureMapBlock(input_channels, hidden_channels)\n",
    "        self.contract1 = ContractingBlock(hidden_channels)\n",
    "        self.contract2 = ContractingBlock(hidden_channels * 2)\n",
    "        res_mult = 4\n",
    "        self.res0 = ResidualBlock(hidden_channels * res_mult)\n",
    "        self.res1 = ResidualBlock(hidden_channels * res_mult)\n",
    "        self.res2 = ResidualBlock(hidden_channels * res_mult)\n",
    "        self.res3 = ResidualBlock(hidden_channels * res_mult)\n",
    "        self.res4 = ResidualBlock(hidden_channels * res_mult)\n",
    "        self.res5 = ResidualBlock(hidden_channels * res_mult)\n",
    "        self.res6 = ResidualBlock(hidden_channels * res_mult)\n",
    "        self.res7 = ResidualBlock(hidden_channels * res_mult)\n",
    "        self.res8 = ResidualBlock(hidden_channels * res_mult)\n",
    "        self.expand2 = ExpandingBlock(hidden_channels * 4)\n",
    "        self.expand3 = ExpandingBlock(hidden_channels * 2)\n",
    "        self.downfeature = FeatureMapBlock(hidden_channels, output_channels)\n",
    "        self.tanh = torch.nn.Tanh()\n",
    "\n",
    "    def forward(self, x):\n",
    "        '''\n",
    "        Function for completing a forward pass of Generator: \n",
    "        Given an image tensor, passes it through the U-Net with residual blocks\n",
    "        and returns the output.\n",
    "        Parameters:\n",
    "            x: image tensor of shape (batch size, channels, height, width)\n",
    "        '''\n",
    "        x0 = self.upfeature(x)\n",
    "        x1 = self.contract1(x0)\n",
    "        x2 = self.contract2(x1)\n",
    "        x3 = self.res0(x2)\n",
    "        x4 = self.res1(x3)\n",
    "        x5 = self.res2(x4)\n",
    "        x6 = self.res3(x5)\n",
    "        x7 = self.res4(x6)\n",
    "        x8 = self.res5(x7)\n",
    "        x9 = self.res6(x8)\n",
    "        x10 = self.res7(x9)\n",
    "        x11 = self.res8(x10)\n",
    "        x12 = self.expand2(x11)\n",
    "        x13 = self.expand3(x12)\n",
    "        xn = self.downfeature(x13)\n",
    "        return self.tanh(xn)"
   ]
  },
  {
   "cell_type": "markdown",
   "metadata": {
    "colab_type": "text",
    "id": "T6ndvjc_1KXx"
   },
   "source": [
    "## PatchGAN Discriminator\n",
    "\n",
    "다음으로 판별자인 PatchGAN을 정의합니다. Pix2Pix에서 본 것과 매우 유사합니다.\n"
   ]
  },
  {
   "cell_type": "code",
   "execution_count": 5,
   "metadata": {
    "colab": {},
    "colab_type": "code",
    "id": "0nVuJPjV1f92"
   },
   "outputs": [],
   "source": [
    "class Discriminator(nn.Module):\n",
    "    '''\n",
    "    Discriminator Class\n",
    "    Structured like the contracting path of the U-Net, the discriminator will\n",
    "    output a matrix of values classifying corresponding portions of the image as real or fake. \n",
    "    Parameters:\n",
    "        input_channels: the number of image input channels\n",
    "        hidden_channels: the initial number of discriminator convolutional filters\n",
    "    '''\n",
    "    def __init__(self, input_channels, hidden_channels=64):\n",
    "        super(Discriminator, self).__init__()\n",
    "        self.upfeature = FeatureMapBlock(input_channels, hidden_channels)\n",
    "        self.contract1 = ContractingBlock(hidden_channels, use_bn=False, kernel_size=4, activation='lrelu')\n",
    "        self.contract2 = ContractingBlock(hidden_channels * 2, kernel_size=4, activation='lrelu')\n",
    "        self.contract3 = ContractingBlock(hidden_channels * 4, kernel_size=4, activation='lrelu')\n",
    "        self.final = nn.Conv2d(hidden_channels * 8, 1, kernel_size=1)\n",
    "\n",
    "    def forward(self, x):\n",
    "        x0 = self.upfeature(x)\n",
    "        x1 = self.contract1(x0)\n",
    "        x2 = self.contract2(x1)\n",
    "        x3 = self.contract3(x2)\n",
    "        xn = self.final(x3)\n",
    "        return xn"
   ]
  },
  {
   "cell_type": "markdown",
   "metadata": {
    "colab_type": "text",
    "id": "qRk_8azSq3tF"
   },
   "source": [
    "## Training Preparation\n",
    "\n",
    "이제 훈련을 위해 모든 것을 결합할 수 있습니다! 매개변수를 정의하여 시작합니다.\n",
    "\n",
    "* adv_criterion: GAN이 판별자를 얼마나 잘 속이고 판별자가 GAN을 얼마나 잘 포착하는지 추적하는 적대적 손실 함수\n",
    "* recon_criterion: 이미지를 \"재구성\"하는 ground truth에 유사한 이미지를 보상하는 손실 함수\n",
    "* n_epochs: 훈련 시 전체 데이터 세트를 반복하는 횟수\n",
    "* dim_A: 더미 A에 있는 이미지의 채널 수\n",
    "* dim_B: 더미 B에 있는 이미지의 채널 수(시각화에서 이것은 현재 dim_A와 동일한 것으로 취급됨을 참고하십시오)\n",
    "* display_step: 이미지를 표시/시각화하는 빈도\n",
    "* batch_size: 정방향/역방향 패스당 이미지 수\n",
    "* lr: 학습률\n",
    "* target_shape: 입력 및 출력 이미지의 크기(픽셀 단위)\n",
    "* load_shape: 단순 데이터 증대로 target_shape에 무작위로 자르기 전에 이미지를 로드할 데이터 세트의 크기\n",
    "* device: 장치 유형"
   ]
  },
  {
   "cell_type": "code",
   "execution_count": 6,
   "metadata": {
    "colab": {},
    "colab_type": "code",
    "id": "UXptQZcwrBrq"
   },
   "outputs": [],
   "source": [
    "import torch.nn.functional as F\n",
    "\n",
    "adv_criterion = nn.MSELoss() \n",
    "recon_criterion = nn.L1Loss() \n",
    "\n",
    "n_epochs = 20\n",
    "dim_A = 3\n",
    "dim_B = 3\n",
    "display_step = 2000\n",
    "batch_size = 1\n",
    "lr = 0.0002\n",
    "load_shape = 286\n",
    "target_shape = 256\n",
    "device = 'cuda'"
   ]
  },
  {
   "cell_type": "markdown",
   "metadata": {
    "colab_type": "text",
    "id": "WPOUC6-nVDCv"
   },
   "source": [
    "그런 다음 일부 데이터 증대(예: 자르기 및 무작위 수평 뒤집기)를 도입하면서 데이터세트의 이미지를 로드합니다.\n"
   ]
  },
  {
   "cell_type": "code",
   "execution_count": 7,
   "metadata": {
    "colab": {},
    "colab_type": "code",
    "id": "PNAK2XqMJ419"
   },
   "outputs": [],
   "source": [
    "transform = transforms.Compose([\n",
    "    transforms.Resize(load_shape),\n",
    "    transforms.RandomCrop(target_shape),\n",
    "    transforms.RandomHorizontalFlip(),\n",
    "    transforms.ToTensor(),\n",
    "])\n",
    "\n",
    "import torchvision\n",
    "dataset = ImageDataset(\"horse2zebra\", transform=transform)"
   ]
  },
  {
   "cell_type": "markdown",
   "metadata": {
    "colab_type": "text",
    "id": "t7vKN1POUjud"
   },
   "source": [
    "다음으로 생성기 및 판별기 및 optimizer를 초기화할 수 있습니다. CycleGAN의 경우 두 개의 GAN이 있으므로 두 개의 생성기와 두 개의 판별자가 있습니다:\n",
    "\n",
    "*   Generator for horse to zebra (`gen_AB`)\n",
    "*   Generator for zebra to horse (`gen_BA`)\n",
    "*   Discriminator for horse (`disc_A`)\n",
    "*   Discriminator for zebra (`disc_B`)\n",
    "\n",
    "사전 훈련된 모델도 로드합니다."
   ]
  },
  {
   "cell_type": "code",
   "execution_count": 8,
   "metadata": {
    "colab": {},
    "colab_type": "code",
    "id": "vBY3Y9UrUgVX"
   },
   "outputs": [],
   "source": [
    "gen_AB = Generator(dim_A, dim_B).to(device)\n",
    "gen_BA = Generator(dim_B, dim_A).to(device)\n",
    "gen_opt = torch.optim.Adam(list(gen_AB.parameters()) + list(gen_BA.parameters()), lr=lr, betas=(0.5, 0.999))\n",
    "disc_A = Discriminator(dim_A).to(device)\n",
    "disc_A_opt = torch.optim.Adam(disc_A.parameters(), lr=lr, betas=(0.5, 0.999))\n",
    "disc_B = Discriminator(dim_B).to(device)\n",
    "disc_B_opt = torch.optim.Adam(disc_B.parameters(), lr=lr, betas=(0.5, 0.999))\n",
    "\n",
    "def weights_init(m):\n",
    "    if isinstance(m, nn.Conv2d) or isinstance(m, nn.ConvTranspose2d):\n",
    "        torch.nn.init.normal_(m.weight, 0.0, 0.02)\n",
    "    if isinstance(m, nn.BatchNorm2d):\n",
    "        torch.nn.init.normal_(m.weight, 0.0, 0.02)\n",
    "        torch.nn.init.constant_(m.bias, 0)\n",
    "\n",
    "# Feel free to change pretrained to False if you're training the model from scratch\n",
    "\n",
    "pretrained = True\n",
    "\n",
    "if pretrained:\n",
    "    pre_dict = torch.load('cycleGAN_100000.pth')\n",
    "    gen_AB.load_state_dict(pre_dict['gen_AB'])\n",
    "    gen_BA.load_state_dict(pre_dict['gen_BA'])\n",
    "    gen_opt.load_state_dict(pre_dict['gen_opt'])\n",
    "    disc_A.load_state_dict(pre_dict['disc_A'])\n",
    "    disc_A_opt.load_state_dict(pre_dict['disc_A_opt'])\n",
    "    disc_B.load_state_dict(pre_dict['disc_B'])\n",
    "    disc_B_opt.load_state_dict(pre_dict['disc_B_opt'])\n",
    "else:\n",
    "    gen_AB = gen_AB.apply(weights_init)\n",
    "    gen_BA = gen_BA.apply(weights_init)\n",
    "    disc_A = disc_A.apply(weights_init)\n",
    "    disc_B = disc_B.apply(weights_init)"
   ]
  },
  {
   "cell_type": "markdown",
   "metadata": {
    "colab_type": "text",
    "id": "YcpFbNDYzJrh"
   },
   "source": [
    "## Discriminator Loss\n",
    "먼저 판별자 손실을 구현합니다. 이것은 이전 과제에서와 동일하므로 간단할 것입니다 :) 생성자를 분리(detach)하는 것을 잊지 마십시오!"
   ]
  },
  {
   "cell_type": "code",
   "execution_count": 9,
   "metadata": {
    "colab": {},
    "colab_type": "code",
    "id": "ExsrHkBqNfLN"
   },
   "outputs": [],
   "source": [
    "# UNQ_C1 (UNIQUE CELL IDENTIFIER, DO NOT EDIT)\n",
    "# GRADED FUNCTION: get_disc_loss\n",
    "def get_disc_loss(real_X, fake_X, disc_X, adv_criterion):\n",
    "    '''\n",
    "    Return the loss of the discriminator given inputs.\n",
    "    Parameters:\n",
    "        real_X: the real images from pile X\n",
    "        fake_X: the generated images of class X\n",
    "        disc_X: the discriminator for class X; takes images and returns real/fake class X\n",
    "            prediction matrices\n",
    "        adv_criterion: the adversarial loss function; takes the discriminator \n",
    "            predictions and the target labels and returns a adversarial \n",
    "            loss (which you aim to minimize)\n",
    "    '''\n",
    "    #### START CODE HERE (~ 5 lines)####\n",
    "    disc_fake_X_hat =  \n",
    "    disc_fake_X_loss =  \n",
    "    disc_real_X_hat = \n",
    "    disc_real_X_loss =  \n",
    "    disc_loss = (disc_fake_X_loss + disc_real_X_loss) / 2\n",
    "    #### END CODE HERE ####\n",
    "    return disc_loss"
   ]
  },
  {
   "cell_type": "code",
   "execution_count": 10,
   "metadata": {
    "colab": {},
    "colab_type": "code",
    "id": "n9pKn0wJ5szz"
   },
   "outputs": [
    {
     "name": "stdout",
     "output_type": "stream",
     "text": [
      "Success!\n"
     ]
    }
   ],
   "source": [
    "# UNIT TEST\n",
    "test_disc_X = lambda x: x * 97\n",
    "test_real_X = torch.tensor(83.)\n",
    "test_fake_X = torch.tensor(89.)\n",
    "test_adv_criterion = lambda x, y: x * 79 + y * 73\n",
    "assert torch.abs((get_disc_loss(test_real_X, test_fake_X, test_disc_X, test_adv_criterion)) - 659054.5000) < 1e-6\n",
    "test_disc_X = lambda x: x.mean(0, keepdim=True)\n",
    "test_adv_criterion = torch.nn.BCEWithLogitsLoss()\n",
    "test_input = torch.ones(20, 10)\n",
    "# If this runs, it's a pass - checks that the shapes are treated correctly\n",
    "get_disc_loss(test_input, test_input, test_disc_X, test_adv_criterion)\n",
    "print(\"Success!\")"
   ]
  },
  {
   "cell_type": "markdown",
   "metadata": {
    "colab_type": "text",
    "id": "00gvvb5JWLTC"
   },
   "source": [
    "## Generator Loss\n",
    "Pix2Pix에서 CycleGAN 아키텍처에 몇 가지 변경 사항이 있지만 CycleGAN의 가장 중요한 구별 특성은 생성기 손실입니다. 여러분은 그것을 여기에서 구현할 것입니다!"
   ]
  },
  {
   "cell_type": "markdown",
   "metadata": {
    "colab_type": "text",
    "id": "oCX5SsevIdNK"
   },
   "source": [
    "#### Adversarial Loss\n",
    "구현하려는 생성기 손실의 첫 번째 구성 요소는 적대적 손실(adversarial loss)입니다. 이것은 다시 한번 과거에 구현한 GAN 손실과 매우 유사합니다. 주목해야 할 중요한 점은 이제 기준이 이진 교차 엔트로피 손실 또는 W-손실이 아닌 최소 제곱 손실(least squares loss)을 기반으로 한다는 것입니다."
   ]
  },
  {
   "cell_type": "code",
   "execution_count": 11,
   "metadata": {
    "colab": {},
    "colab_type": "code",
    "id": "oRRnnkwGwV5J"
   },
   "outputs": [],
   "source": [
    "# UNQ_C2 (UNIQUE CELL IDENTIFIER, DO NOT EDIT)\n",
    "# GRADED FUNCTION: get_gen_adversarial_loss\n",
    "def get_gen_adversarial_loss(real_X, disc_Y, gen_XY, adv_criterion):\n",
    "    '''\n",
    "    Return the adversarial loss of the generator given inputs\n",
    "    (and the generated images for testing purposes).\n",
    "    Parameters:\n",
    "        real_X: the real images from pile X\n",
    "        disc_Y: the discriminator for class Y; takes images and returns real/fake class Y\n",
    "            prediction matrices\n",
    "        gen_XY: the generator for class X to Y; takes images and returns the images \n",
    "            transformed to class Y\n",
    "        adv_criterion: the adversarial loss function; takes the discriminator \n",
    "                  predictions and the target labels and returns a adversarial \n",
    "                  loss (which you aim to minimize)\n",
    "    '''\n",
    "    #### START CODE HERE (~ 3 lines)####\n",
    "    fake_Y =  \n",
    "    disc_fake_Y_hat =  \n",
    "    adversarial_loss =  \n",
    "    #### END CODE HERE ####\n",
    "    return adversarial_loss, fake_Y"
   ]
  },
  {
   "cell_type": "code",
   "execution_count": 12,
   "metadata": {
    "colab": {},
    "colab_type": "code",
    "id": "0FlbCSG29M20"
   },
   "outputs": [
    {
     "name": "stdout",
     "output_type": "stream",
     "text": [
      "Success!\n"
     ]
    }
   ],
   "source": [
    "# UNIT TEST\n",
    "test_disc_Y = lambda x: x * 97\n",
    "test_real_X = torch.tensor(83.)\n",
    "test_gen_XY = lambda x: x * 89\n",
    "test_adv_criterion = lambda x, y: x * 79 + y * 73\n",
    "test_res = get_gen_adversarial_loss(test_real_X, test_disc_Y, test_gen_XY, test_adv_criterion)\n",
    "assert torch.abs(test_res[0] - 56606652) < 1e-6\n",
    "assert torch.abs(test_res[1] - 7387) < 1e-6\n",
    "test_disc_Y = lambda x: x.mean(0, keepdim=True)\n",
    "test_adv_criterion = torch.nn.BCEWithLogitsLoss()\n",
    "test_input = torch.ones(20, 10)\n",
    "# If this runs, it's a pass - checks that the shapes are treated correctly\n",
    "get_gen_adversarial_loss(test_input, test_disc_Y, test_gen_XY, test_adv_criterion)\n",
    "print(\"Success!\")"
   ]
  },
  {
   "cell_type": "markdown",
   "metadata": {
    "colab_type": "text",
    "id": "fqsPfWxyIzto"
   },
   "source": [
    "#### Identity Loss\n",
    "여기서 당신은 훌륭하게 새로운 재료의 일부를 볼 수 있습니다! 생성자가 예상하는 입력 도메인 대신 대상 도메인의 예제를 전달할 때 이미지의 변화를 측정하고 싶을 것입니다. 출력은 이미 대상 도메인 클래스에 있으므로 입력과 동일해야 합니다. 예를 들어 말을 얼룩말 -> 말 생성기에 넣으면 변환할 필요가 없기 때문에 출력이 동일한 말이 나올 것으로 예상합니다. 이미 말입니다! 생성기가 다른 것으로 변환하는 것을 원하지 않으므로 이 동작을 권장하고 싶습니다. 이 항등 매핑(identity mapping)을 장려하면서 CycleGAN의 저자는 일부 작업의 경우 예상 입력(여기서는 얼룩말)이 입력된 경우에도 이미지의 색상을 적절하게 보존하는 데 도움이 된다는 것을 발견했습니다. 이는 특히 사진에 유용했습니다 <- > 그림 매핑 및 선택적인 미적 구성 요소인 동시에 응용 프로그램에 유용할 수 있습니다.\n",
    "\n",
    "\n",
    "![Diagram showing a real horse image going through a zebra -> horse generator and the ideal output being the same input image](Identity_Loss.png)"
   ]
  },
  {
   "cell_type": "code",
   "execution_count": 15,
   "metadata": {
    "colab": {},
    "colab_type": "code",
    "id": "ZU4PNEFB4r7M"
   },
   "outputs": [],
   "source": [
    "# UNQ_C3 (UNIQUE CELL IDENTIFIER, DO NOT EDIT)\n",
    "# GRADED FUNCTION: get_identity_loss\n",
    "def get_identity_loss(real_X, gen_YX, identity_criterion):\n",
    "    '''\n",
    "    Return the identity loss of the generator given inputs\n",
    "    (and the generated images for testing purposes).\n",
    "    Parameters:\n",
    "        real_X: the real images from pile X\n",
    "        gen_YX: the generator for class Y to X; takes images and returns the images \n",
    "            transformed to class X\n",
    "        identity_criterion: the identity loss function; takes the real images from X and\n",
    "                        those images put through a Y->X generator and returns the identity \n",
    "                        loss (which you aim to minimize)\n",
    "    '''\n",
    "    #### START CODE HERE (~2 lines)####\n",
    "    identity_X =  \n",
    "    identity_loss =  \n",
    "    #### END CODE HERE ####\n",
    "    return identity_loss, identity_X"
   ]
  },
  {
   "cell_type": "code",
   "execution_count": 16,
   "metadata": {
    "colab": {},
    "colab_type": "code",
    "id": "G-8pKidC92CL"
   },
   "outputs": [
    {
     "name": "stdout",
     "output_type": "stream",
     "text": [
      "Success!\n"
     ]
    }
   ],
   "source": [
    "# UNIT TEST\n",
    "test_real_X = torch.tensor(83.)\n",
    "test_gen_YX = lambda x: x * 89\n",
    "test_identity_criterion = lambda x, y: (x + y) * 73\n",
    "test_res = get_identity_loss(test_real_X, test_gen_YX, test_identity_criterion)\n",
    "assert torch.abs(test_res[0] - 545310) < 1e-6\n",
    "assert torch.abs(test_res[1] - 7387) < 1e-6\n",
    "print(\"Success!\")"
   ]
  },
  {
   "cell_type": "markdown",
   "metadata": {
    "colab_type": "text",
    "id": "a4riyUqIJJXS"
   },
   "source": [
    "#### Cycle Consistency Loss\n",
    "이제 최종 생성기 손실과 CycleGAN에 \"순환(cycle)\"를 넣는 부분인 순환 일관성 손실을 구현할 수 있습니다. 이것은 하나의 생성기를 통해 이미지를 넣을 때 반대 생성기를 사용하여 입력 클래스로 다시 변환되는 경우 이미지가 원래 입력 이미지와 동일한지 확인하는 데 사용됩니다.\n",
    "\n",
    "![Diagram showing a real zebra image being transformed into a horse and then back into a zebra. The output zebra should be the same as the input zebra.](Cycle_Consistency_Loss.png)\n",
    "\n",
    "적대적인 부분에 대한 가짜 이미지를 이미 생성했으므로 해당 가짜 이미지를 다시 전달하여 전체 주기를 생성할 수 있습니다. 이 손실은 주기가 최대한 많은 정보를 보존하도록 조장합니다.\n",
    "\n",
    "*재미있는 사실: 주기 일관성은 CycleGAN 외부에서도 많이 사용되는 더 넓은 개념입니다! 데이터 증강에 도움이 되며 텍스트 번역에도 사용되었습니다. 프랑스어 -> 영어 -> 프랑스어는 동일한 구문을 다시 가져와야 합니다.*"
   ]
  },
  {
   "cell_type": "code",
   "execution_count": 17,
   "metadata": {
    "colab": {},
    "colab_type": "code",
    "id": "YZE-Eyj0LOpm"
   },
   "outputs": [],
   "source": [
    "# UNQ_C4 (UNIQUE CELL IDENTIFIER, DO NOT EDIT)\n",
    "# GRADED FUNCTION: get_cycle_consistency_loss\n",
    "def get_cycle_consistency_loss(real_X, fake_Y, gen_YX, cycle_criterion):\n",
    "    '''\n",
    "    Return the cycle consistency loss of the generator given inputs\n",
    "    (and the generated images for testing purposes).\n",
    "    Parameters:\n",
    "        real_X: the real images from pile X\n",
    "        fake_Y: the generated images of class Y\n",
    "        gen_YX: the generator for class Y to X; takes images and returns the images \n",
    "            transformed to class X\n",
    "        cycle_criterion: the cycle consistency loss function; takes the real images from X and\n",
    "                        those images put through a X->Y generator and then Y->X generator\n",
    "                        and returns the cycle consistency loss (which you aim to minimize)\n",
    "    '''\n",
    "    #### START CODE HERE (~2 lines)####\n",
    "    cycle_X =  \n",
    "    cycle_loss =  \n",
    "    #### END CODE HERE ####\n",
    "    return cycle_loss, cycle_X"
   ]
  },
  {
   "cell_type": "code",
   "execution_count": 18,
   "metadata": {
    "colab": {},
    "colab_type": "code",
    "id": "07yvxXy0-NhH"
   },
   "outputs": [
    {
     "name": "stdout",
     "output_type": "stream",
     "text": [
      "Success!\n"
     ]
    }
   ],
   "source": [
    "# UNIT TEST\n",
    "test_real_X = torch.tensor(83.)\n",
    "test_fake_Y = torch.tensor(97.)\n",
    "test_gen_YX = lambda x: x * 89\n",
    "test_cycle_criterion = lambda x, y: (x + y) * 73\n",
    "test_res = get_cycle_consistency_loss(test_real_X, test_fake_Y, test_gen_YX, test_cycle_criterion)\n",
    "assert torch.abs(test_res[1] - 8633) < 1e-6\n",
    "assert torch.abs(test_res[0] - 636268) < 1e-6\n",
    "print(\"Success!\")"
   ]
  },
  {
   "cell_type": "markdown",
   "metadata": {
    "colab_type": "text",
    "id": "RchMRsiyJuRi"
   },
   "source": [
    "#### Generator Loss (Total)\n",
    "\n",
    "마지막으로, 당신은 그것을 모두 함께 넣을 수 있습니다! 많은 구성 요소가 있으므로 이 섹션을 진행할 때 주의하십시오.\n"
   ]
  },
  {
   "cell_type": "code",
   "execution_count": 25,
   "metadata": {
    "colab": {},
    "colab_type": "code",
    "id": "5oAdw-H1KbGv"
   },
   "outputs": [],
   "source": [
    "# UNQ_C5 (UNIQUE CELL IDENTIFIER, DO NOT EDIT)\n",
    "# GRADED FUNCTION: get_gen_loss\n",
    "def get_gen_loss(real_A, real_B, gen_AB, gen_BA, disc_A, disc_B, adv_criterion, identity_criterion, cycle_criterion, lambda_identity=0.1, lambda_cycle=10):\n",
    "    '''\n",
    "    Return the loss of the generator given inputs.\n",
    "    Parameters:\n",
    "        real_A: the real images from pile A\n",
    "        real_B: the real images from pile B\n",
    "        gen_AB: the generator for class A to B; takes images and returns the images \n",
    "            transformed to class B\n",
    "        gen_BA: the generator for class B to A; takes images and returns the images \n",
    "            transformed to class A\n",
    "        disc_A: the discriminator for class A; takes images and returns real/fake class A\n",
    "            prediction matrices\n",
    "        disc_B: the discriminator for class B; takes images and returns real/fake class B\n",
    "            prediction matrices\n",
    "        adv_criterion: the adversarial loss function; takes the discriminator \n",
    "            predictions and the true labels and returns a adversarial \n",
    "            loss (which you aim to minimize)\n",
    "        identity_criterion: the reconstruction loss function used for identity loss\n",
    "            and cycle consistency loss; takes two sets of images and returns\n",
    "            their pixel differences (which you aim to minimize)\n",
    "        cycle_criterion: the cycle consistency loss function; takes the real images from X and\n",
    "            those images put through a X->Y generator and then Y->X generator\n",
    "            and returns the cycle consistency loss (which you aim to minimize).\n",
    "            Note that in practice, cycle_criterion == identity_criterion == L1 loss\n",
    "        lambda_identity: the weight of the identity loss\n",
    "        lambda_cycle: the weight of the cycle-consistency loss\n",
    "    '''\n",
    "    # Hint 1: Make sure you include both directions - you can think of the generators as collaborating\n",
    "    # Hint 2: Don't forget to use the lambdas for the identity loss and cycle loss!\n",
    "    #### START CODE HERE ####\n",
    "    # Adversarial Loss -- get_gen_adversarial_loss(real_X, disc_Y, gen_XY, adv_criterion) (2 lines)\n",
    "    adv_loss_AB, fake_B =  \n",
    "    adv_loss_BA, fake_A =  \n",
    "    gen_adversarial_loss = adv_loss_BA + adv_loss_AB\n",
    "\n",
    "    # Identity Loss -- get_identity_loss(real_X, gen_YX, identity_criterion) (2 lines)\n",
    "    identity_loss_A, identity_A =  \n",
    "    identity_loss_B, identity_B =  \n",
    "    gen_identity_loss = identity_loss_A + identity_loss_B\n",
    "\n",
    "    # Cycle-consistency Loss -- get_cycle_consistency_loss(real_X, fake_Y, gen_YX, cycle_criterion) (2 lines)\n",
    "    cycle_loss_BA, cycle_A =  \n",
    "    cycle_loss_AB, cycle_B =  \n",
    "    gen_cycle_loss = cycle_loss_BA + cycle_loss_AB\n",
    "\n",
    "    # Total loss\n",
    "    gen_loss = lambda_identity * gen_identity_loss + lambda_cycle * gen_cycle_loss + gen_adversarial_loss\n",
    "    #### END CODE HERE ####\n",
    "    return gen_loss, fake_A, fake_B"
   ]
  },
  {
   "cell_type": "code",
   "execution_count": 26,
   "metadata": {
    "colab": {},
    "colab_type": "code",
    "id": "sV_WpbEo-njW"
   },
   "outputs": [
    {
     "name": "stdout",
     "output_type": "stream",
     "text": [
      "Success!\n"
     ]
    }
   ],
   "source": [
    "# UNIT TEST\n",
    "test_real_A = torch.tensor(97)\n",
    "test_real_B = torch.tensor(89)\n",
    "test_gen_AB = lambda x: x * 83\n",
    "test_gen_BA = lambda x: x * 79\n",
    "test_disc_A = lambda x: x * 47\n",
    "test_disc_B = lambda x: x * 43\n",
    "test_adv_criterion = lambda x, y: x * 73 + y * 71\n",
    "test_recon_criterion = lambda x, y: (x + y) * 61\n",
    "test_lambda_identity = 59\n",
    "test_lambda_cycle = 53\n",
    "test_res = get_gen_loss(\n",
    "    test_real_A, \n",
    "    test_real_B, \n",
    "    test_gen_AB, \n",
    "    test_gen_BA, \n",
    "    test_disc_A,\n",
    "    test_disc_B,\n",
    "    test_adv_criterion, \n",
    "    test_recon_criterion, \n",
    "    test_recon_criterion, \n",
    "    test_lambda_identity, \n",
    "    test_lambda_cycle)\n",
    "assert test_res[0].item() == 4047804560\n",
    "assert test_res[1].item() == 7031\n",
    "assert test_res[2].item() == 8051\n",
    "print(\"Success!\")"
   ]
  },
  {
   "cell_type": "markdown",
   "metadata": {
    "colab_type": "text",
    "id": "SMDZWZTz3ivA"
   },
   "source": [
    "## CycleGAN Training\n",
    "\n",
    "마지막으로, 모델을 훈련시키고 얼룩말, 말, 그리고 전혀 닮지 않은 얼룩말을 볼 수 있습니다! 이 훈련은 시간이 오래 걸리므로 사전 훈련된 체크포인트를 꽤 좋은 CycleGAN이 하는 일의 예로 자유롭게 사용하십시오.\n"
   ]
  },
  {
   "cell_type": "code",
   "execution_count": null,
   "metadata": {
    "colab": {},
    "colab_type": "code",
    "id": "fy6UBV60HtnY",
    "scrolled": true
   },
   "outputs": [],
   "source": [
    "# On window, the following 2 lines help to prevent a crash\n",
    "import os\n",
    "os.environ['KMP_DUPLICATE_LIB_OK']='True'\n",
    "\n",
    "from skimage import color\n",
    "import numpy as np\n",
    "plt.rcParams[\"figure.figsize\"] = (10, 10)\n",
    "\n",
    "\n",
    "def train(save_model=True):\n",
    "    mean_generator_loss = 0\n",
    "    mean_discriminator_loss = 0\n",
    "    dataloader = DataLoader(dataset, batch_size=batch_size, shuffle=True)\n",
    "    cur_step = 0\n",
    "\n",
    "    for epoch in range(n_epochs):\n",
    "        # Dataloader returns the batches\n",
    "        # for image, _ in tqdm(dataloader):\n",
    "        for real_A, real_B in tqdm(dataloader):\n",
    "            # image_width = image.shape[3]\n",
    "            real_A = nn.functional.interpolate(real_A, size=target_shape)\n",
    "            real_B = nn.functional.interpolate(real_B, size=target_shape)\n",
    "            cur_batch_size = len(real_A)\n",
    "            real_A = real_A.to(device)\n",
    "            real_B = real_B.to(device)\n",
    "\n",
    "            ### Update discriminator A ###\n",
    "            disc_A_opt.zero_grad() # Zero out the gradient before backpropagation\n",
    "            with torch.no_grad():\n",
    "                fake_A = gen_BA(real_B)\n",
    "            disc_A_loss = get_disc_loss(real_A, fake_A, disc_A, adv_criterion)\n",
    "            disc_A_loss.backward(retain_graph=True) # Update gradients\n",
    "            disc_A_opt.step() # Update optimizer\n",
    "\n",
    "            ### Update discriminator B ###\n",
    "            disc_B_opt.zero_grad() # Zero out the gradient before backpropagation\n",
    "            with torch.no_grad():\n",
    "                fake_B = gen_AB(real_A)\n",
    "            disc_B_loss = get_disc_loss(real_B, fake_B, disc_B, adv_criterion)\n",
    "            disc_B_loss.backward(retain_graph=True) # Update gradients\n",
    "            disc_B_opt.step() # Update optimizer\n",
    "\n",
    "            ### Update generator ###\n",
    "            gen_opt.zero_grad()\n",
    "            gen_loss, fake_A, fake_B = get_gen_loss(\n",
    "                real_A, real_B, gen_AB, gen_BA, disc_A, disc_B, adv_criterion, recon_criterion, recon_criterion\n",
    "            )\n",
    "            gen_loss.backward() # Update gradients\n",
    "            gen_opt.step() # Update optimizer\n",
    "\n",
    "            # Keep track of the average discriminator loss\n",
    "            mean_discriminator_loss += disc_A_loss.item() / display_step\n",
    "            # Keep track of the average generator loss\n",
    "            mean_generator_loss += gen_loss.item() / display_step\n",
    "\n",
    "            ### Visualization code ###\n",
    "            if cur_step % display_step == 0:\n",
    "                print(f\"Epoch {epoch}: Step {cur_step}: Generator (U-Net) loss: {mean_generator_loss}, Discriminator loss: {mean_discriminator_loss}\")\n",
    "                show_tensor_images(torch.cat([real_A, real_B]), size=(dim_A, target_shape, target_shape))\n",
    "                show_tensor_images(torch.cat([fake_B, fake_A]), size=(dim_B, target_shape, target_shape))\n",
    "                mean_generator_loss = 0\n",
    "                mean_discriminator_loss = 0\n",
    "                # You can change save_model to True if you'd like to save the model\n",
    "                if save_model:\n",
    "                    torch.save({\n",
    "                        'gen_AB': gen_AB.state_dict(),\n",
    "                        'gen_BA': gen_BA.state_dict(),\n",
    "                        'gen_opt': gen_opt.state_dict(),\n",
    "                        'disc_A': disc_A.state_dict(),\n",
    "                        'disc_A_opt': disc_A_opt.state_dict(),\n",
    "                        'disc_B': disc_B.state_dict(),\n",
    "                        'disc_B_opt': disc_B_opt.state_dict()\n",
    "                    }, f\"cycleGAN_{cur_step}.pth\")\n",
    "            cur_step += 1\n",
    "train()"
   ]
  }
 ],
 "metadata": {
  "accelerator": "GPU",
  "colab": {
   "collapsed_sections": [
    "1KD3ZgLs80vY"
   ],
   "name": "C3W3: CycleGAN.ipynb",
   "provenance": [],
   "toc_visible": true
  },
  "coursera": {
   "schema_names": [
    "GANSC3-3A"
   ]
  },
  "kernelspec": {
   "display_name": "Python 3 (ipykernel)",
   "language": "python",
   "name": "python3"
  },
  "language_info": {
   "codemirror_mode": {
    "name": "ipython",
    "version": 3
   },
   "file_extension": ".py",
   "mimetype": "text/x-python",
   "name": "python",
   "nbconvert_exporter": "python",
   "pygments_lexer": "ipython3",
   "version": "3.9.7"
  }
 },
 "nbformat": 4,
 "nbformat_minor": 1
}
